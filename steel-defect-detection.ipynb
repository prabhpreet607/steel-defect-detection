{
 "cells": [
  {
   "cell_type": "code",
   "execution_count": 1,
   "id": "94ac3add",
   "metadata": {},
   "outputs": [],
   "source": [
    "import pandas as pd\n",
    "import numpy as np\n",
    "import matplotlib.pyplot as plt\n",
    "import seaborn as sns\n",
    "import warnings\n",
    "import matplotlib.pyplot as plt\n",
    "import keras\n",
    "from sklearn.model_selection import train_test_split\n",
    "from tqdm import tqdm\n",
    "import cv2\n",
    "from sklearn.preprocessing import OneHotEncoder,LabelEncoder\n",
    "from keras.utils import to_categorical\n",
    "from keras.models import Sequential\n",
    "import tensorflow as tf\n",
    "from keras.layers import Dense,Conv2D,Flatten,MaxPooling2D,Dropout"
   ]
  },
  {
   "cell_type": "code",
   "execution_count": 2,
   "id": "8caa61ae",
   "metadata": {},
   "outputs": [],
   "source": [
    "data  = pd.read_csv(\"G://train//train.csv\")"
   ]
  },
  {
   "cell_type": "code",
   "execution_count": 3,
   "id": "7869135c",
   "metadata": {},
   "outputs": [
    {
     "data": {
      "text/html": [
       "<div>\n",
       "<style scoped>\n",
       "    .dataframe tbody tr th:only-of-type {\n",
       "        vertical-align: middle;\n",
       "    }\n",
       "\n",
       "    .dataframe tbody tr th {\n",
       "        vertical-align: top;\n",
       "    }\n",
       "\n",
       "    .dataframe thead th {\n",
       "        text-align: right;\n",
       "    }\n",
       "</style>\n",
       "<table border=\"1\" class=\"dataframe\">\n",
       "  <thead>\n",
       "    <tr style=\"text-align: right;\">\n",
       "      <th></th>\n",
       "      <th>ImageId</th>\n",
       "      <th>ClassId</th>\n",
       "      <th>EncodedPixels</th>\n",
       "    </tr>\n",
       "  </thead>\n",
       "  <tbody>\n",
       "    <tr>\n",
       "      <th>0</th>\n",
       "      <td>0002cc93b.jpg</td>\n",
       "      <td>1</td>\n",
       "      <td>29102 12 29346 24 29602 24 29858 24 30114 24 3...</td>\n",
       "    </tr>\n",
       "    <tr>\n",
       "      <th>1</th>\n",
       "      <td>0007a71bf.jpg</td>\n",
       "      <td>3</td>\n",
       "      <td>18661 28 18863 82 19091 110 19347 110 19603 11...</td>\n",
       "    </tr>\n",
       "    <tr>\n",
       "      <th>2</th>\n",
       "      <td>000a4bcdd.jpg</td>\n",
       "      <td>1</td>\n",
       "      <td>37607 3 37858 8 38108 14 38359 20 38610 25 388...</td>\n",
       "    </tr>\n",
       "    <tr>\n",
       "      <th>3</th>\n",
       "      <td>000f6bf48.jpg</td>\n",
       "      <td>4</td>\n",
       "      <td>131973 1 132228 4 132483 6 132738 8 132993 11 ...</td>\n",
       "    </tr>\n",
       "    <tr>\n",
       "      <th>4</th>\n",
       "      <td>0014fce06.jpg</td>\n",
       "      <td>3</td>\n",
       "      <td>229501 11 229741 33 229981 55 230221 77 230468...</td>\n",
       "    </tr>\n",
       "    <tr>\n",
       "      <th>...</th>\n",
       "      <td>...</td>\n",
       "      <td>...</td>\n",
       "      <td>...</td>\n",
       "    </tr>\n",
       "    <tr>\n",
       "      <th>7090</th>\n",
       "      <td>ffcf72ecf.jpg</td>\n",
       "      <td>3</td>\n",
       "      <td>121911 34 122167 101 122422 169 122678 203 122...</td>\n",
       "    </tr>\n",
       "    <tr>\n",
       "      <th>7091</th>\n",
       "      <td>fff02e9c5.jpg</td>\n",
       "      <td>3</td>\n",
       "      <td>207523 3 207777 9 208030 15 208283 22 208537 2...</td>\n",
       "    </tr>\n",
       "    <tr>\n",
       "      <th>7092</th>\n",
       "      <td>fffe98443.jpg</td>\n",
       "      <td>3</td>\n",
       "      <td>105929 5 106177 14 106424 24 106672 33 106923 ...</td>\n",
       "    </tr>\n",
       "    <tr>\n",
       "      <th>7093</th>\n",
       "      <td>ffff4eaa8.jpg</td>\n",
       "      <td>3</td>\n",
       "      <td>16899 7 17155 20 17411 34 17667 47 17923 60 18...</td>\n",
       "    </tr>\n",
       "    <tr>\n",
       "      <th>7094</th>\n",
       "      <td>ffffd67df.jpg</td>\n",
       "      <td>3</td>\n",
       "      <td>30931 43 31103 127 31275 211 31489 253 31745 2...</td>\n",
       "    </tr>\n",
       "  </tbody>\n",
       "</table>\n",
       "<p>7095 rows × 3 columns</p>\n",
       "</div>"
      ],
      "text/plain": [
       "            ImageId  ClassId  \\\n",
       "0     0002cc93b.jpg        1   \n",
       "1     0007a71bf.jpg        3   \n",
       "2     000a4bcdd.jpg        1   \n",
       "3     000f6bf48.jpg        4   \n",
       "4     0014fce06.jpg        3   \n",
       "...             ...      ...   \n",
       "7090  ffcf72ecf.jpg        3   \n",
       "7091  fff02e9c5.jpg        3   \n",
       "7092  fffe98443.jpg        3   \n",
       "7093  ffff4eaa8.jpg        3   \n",
       "7094  ffffd67df.jpg        3   \n",
       "\n",
       "                                          EncodedPixels  \n",
       "0     29102 12 29346 24 29602 24 29858 24 30114 24 3...  \n",
       "1     18661 28 18863 82 19091 110 19347 110 19603 11...  \n",
       "2     37607 3 37858 8 38108 14 38359 20 38610 25 388...  \n",
       "3     131973 1 132228 4 132483 6 132738 8 132993 11 ...  \n",
       "4     229501 11 229741 33 229981 55 230221 77 230468...  \n",
       "...                                                 ...  \n",
       "7090  121911 34 122167 101 122422 169 122678 203 122...  \n",
       "7091  207523 3 207777 9 208030 15 208283 22 208537 2...  \n",
       "7092  105929 5 106177 14 106424 24 106672 33 106923 ...  \n",
       "7093  16899 7 17155 20 17411 34 17667 47 17923 60 18...  \n",
       "7094  30931 43 31103 127 31275 211 31489 253 31745 2...  \n",
       "\n",
       "[7095 rows x 3 columns]"
      ]
     },
     "execution_count": 3,
     "metadata": {},
     "output_type": "execute_result"
    }
   ],
   "source": [
    "data"
   ]
  },
  {
   "cell_type": "code",
   "execution_count": 4,
   "id": "77c068e6",
   "metadata": {},
   "outputs": [
    {
     "data": {
      "text/plain": [
       "(7095, 3)"
      ]
     },
     "execution_count": 4,
     "metadata": {},
     "output_type": "execute_result"
    }
   ],
   "source": [
    "data.shape"
   ]
  },
  {
   "cell_type": "code",
   "execution_count": 5,
   "id": "cfaafbab",
   "metadata": {},
   "outputs": [
    {
     "data": {
      "text/plain": [
       "3    5150\n",
       "1     897\n",
       "4     801\n",
       "2     247\n",
       "Name: ClassId, dtype: int64"
      ]
     },
     "execution_count": 5,
     "metadata": {},
     "output_type": "execute_result"
    },
    {
     "data": {
      "image/png": "[encoded data removed]",
      "text/plain": [
       "<Figure size 432x288 with 1 Axes>"
      ]
     },
     "metadata": {
      "needs_background": "light"
     },
     "output_type": "display_data"
    }
   ],
   "source": [
    "data[\"ClassId\"].value_counts().plot(kind = \"bar\")\n",
    "data[\"ClassId\"].value_counts()\n"
   ]
  },
  {
   "cell_type": "code",
   "execution_count": 6,
   "id": "6fed4826",
   "metadata": {},
   "outputs": [
    {
     "name": "stderr",
     "output_type": "stream",
     "text": [
      "100%|██████████| 7095/7095 [02:09<00:00, 54.66it/s]\n"
     ]
    }
   ],
   "source": [
    "l1=[]\n",
    "l2=[]\n",
    "for ImageId,ClassId,EncodedPixels in tqdm(data.values):\n",
    "    img = cv2.imread(\"G://train_images//{}\".format(ImageId),cv2.IMREAD_COLOR)\n",
    "    img = cv2.resize(img,(120,120))\n",
    "    l1.append(img)\n",
    "    l2.append(ClassId)"
   ]
  },
  {
   "cell_type": "code",
   "execution_count": 7,
   "id": "3c85fde7",
   "metadata": {},
   "outputs": [],
   "source": [
    "encoder = LabelEncoder()\n",
    "\n",
    "X= np.array(l1)\n",
    "X = X/255 #converting range from 0 to 1\n",
    "\n",
    "y = encoder.fit_transform(l2) # using label encoding\n",
    "y = to_categorical(y)"
   ]
  },
  {
   "cell_type": "code",
   "execution_count": 8,
   "id": "56252b6c",
   "metadata": {},
   "outputs": [
    {
     "name": "stdout",
     "output_type": "stream",
     "text": [
      "x_train shape: (5676, 120, 120, 3)\n",
      "x_test shape: (1419, 120, 120, 3)\n",
      "y_train shape: (5676, 4)\n",
      "y_test shape: (1419, 4)\n"
     ]
    }
   ],
   "source": [
    "X_train,X_test,y_train,y_test=train_test_split(X,y,test_size=0.2,stratify=y,shuffle=True)\n",
    "print(\"x_train shape:\",X_train.shape)\n",
    "print(\"x_test shape:\",X_test.shape)\n",
    "print(\"y_train shape:\",y_train.shape)\n",
    "print(\"y_test shape:\",y_test.shape)"
   ]
  },
  {
   "cell_type": "code",
   "execution_count": 9,
   "id": "c330ac9c",
   "metadata": {},
   "outputs": [],
   "source": [
    "model=Sequential()\n",
    "model.add(Conv2D(32,(3,3),input_shape=(120,120,3),activation=\"relu\"))\n",
    "model.add(MaxPooling2D(pool_size=(3,3)))\n",
    "\n",
    "model.add(Conv2D(64,(3,3),activation=\"relu\"))\n",
    "model.add(MaxPooling2D(pool_size=(3,3)))\n",
    "\n",
    "model.add(Conv2D(64,(3,3),activation=\"relu\"))\n",
    "model.add(MaxPooling2D(pool_size=(4,4)))\n",
    "\n",
    "model.add(Flatten())\n",
    "model.add(Dense(128,activation=\"relu\"))\n",
    "model.add(Dropout(0.3))\n",
    "model.add(Dense(128,activation=\"relu\"))\n",
    "model.add(Dropout(0.3))\n",
    "model.add(Dense(256,activation=\"relu\"))\n",
    "model.add(Dense(4,activation=\"softmax\"))"
   ]
  },
  {
   "cell_type": "code",
   "execution_count": 10,
   "id": "8a9bbdd1",
   "metadata": {},
   "outputs": [],
   "source": [
    "early_stopping = tf.keras.callbacks.EarlyStopping(patience=5,min_delta=0.001,restore_best_weights=True)"
   ]
  },
  {
   "cell_type": "code",
   "execution_count": 11,
   "id": "239b007a",
   "metadata": {},
   "outputs": [],
   "source": [
    "\n",
    "\n",
    "\n",
    "model.compile(loss=keras.losses.categorical_crossentropy,\n",
    "             optimizer=keras.optimizers.Adam(),\n",
    "             metrics=[\"accuracy\"])"
   ]
  },
  {
   "cell_type": "code",
   "execution_count": 12,
   "id": "3678167f",
   "metadata": {},
   "outputs": [
    {
     "name": "stdout",
     "output_type": "stream",
     "text": [
      "Epoch 1/15\n",
      "57/57 [==============================] - 76s 1s/step - loss: 0.9066 - accuracy: 0.7148 - val_loss: 0.8250 - val_accuracy: 0.7259\n",
      "Epoch 2/15\n",
      "57/57 [==============================] - 58s 1s/step - loss: 0.8030 - accuracy: 0.7259 - val_loss: 0.7863 - val_accuracy: 0.7259\n",
      "Epoch 3/15\n",
      "57/57 [==============================] - 58s 1s/step - loss: 0.7594 - accuracy: 0.7377 - val_loss: 0.7162 - val_accuracy: 0.7428\n",
      "Epoch 4/15\n",
      "57/57 [==============================] - 62s 1s/step - loss: 0.7033 - accuracy: 0.7474 - val_loss: 0.6698 - val_accuracy: 0.7519\n",
      "Epoch 5/15\n",
      "57/57 [==============================] - 70s 1s/step - loss: 0.6707 - accuracy: 0.7479 - val_loss: 0.6523 - val_accuracy: 0.7484\n",
      "Epoch 6/15\n",
      "57/57 [==============================] - 56s 988ms/step - loss: 0.6423 - accuracy: 0.7489 - val_loss: 0.6130 - val_accuracy: 0.7576\n",
      "Epoch 7/15\n",
      "57/57 [==============================] - 69s 1s/step - loss: 0.6257 - accuracy: 0.7556 - val_loss: 0.6234 - val_accuracy: 0.7541\n",
      "Epoch 8/15\n",
      "57/57 [==============================] - 69s 1s/step - loss: 0.6100 - accuracy: 0.7581 - val_loss: 0.5878 - val_accuracy: 0.7646\n",
      "Epoch 9/15\n",
      "57/57 [==============================] - 69s 1s/step - loss: 0.5911 - accuracy: 0.7544 - val_loss: 0.6533 - val_accuracy: 0.7583\n",
      "Epoch 10/15\n",
      "57/57 [==============================] - 70s 1s/step - loss: 0.5727 - accuracy: 0.7572 - val_loss: 0.5885 - val_accuracy: 0.7449\n",
      "Epoch 11/15\n",
      "57/57 [==============================] - 70s 1s/step - loss: 0.5505 - accuracy: 0.7599 - val_loss: 0.5569 - val_accuracy: 0.7562\n",
      "Epoch 12/15\n",
      "57/57 [==============================] - 67s 1s/step - loss: 0.5327 - accuracy: 0.7680 - val_loss: 0.5392 - val_accuracy: 0.7667\n",
      "Epoch 13/15\n",
      "57/57 [==============================] - 70s 1s/step - loss: 0.5189 - accuracy: 0.7740 - val_loss: 0.5114 - val_accuracy: 0.7731\n",
      "Epoch 14/15\n",
      "57/57 [==============================] - 69s 1s/step - loss: 0.5052 - accuracy: 0.7759 - val_loss: 0.5354 - val_accuracy: 0.7703\n",
      "Epoch 15/15\n",
      "57/57 [==============================] - 67s 1s/step - loss: 0.4865 - accuracy: 0.7861 - val_loss: 0.5295 - val_accuracy: 0.7752\n"
     ]
    }
   ],
   "source": [
    "history = model.fit(X_train,y_train,epochs=15,validation_data=(X_test,y_test),batch_size=100,\n",
    "                    verbose=1, callbacks=[early_stopping])"
   ]
  },
  {
   "cell_type": "code",
   "execution_count": 13,
   "id": "f9fc590a",
   "metadata": {},
   "outputs": [
    {
     "data": {
      "text/plain": [
       "<AxesSubplot:title={'center':'Loss curve'}>"
      ]
     },
     "execution_count": 13,
     "metadata": {},
     "output_type": "execute_result"
    },
    {
     "data": {
      "image/png": "[encoded data removed]",
      "text/plain": [
       "<Figure size 432x288 with 1 Axes>"
      ]
     },
     "metadata": {
      "needs_background": "light"
     },
     "output_type": "display_data"
    }
   ],
   "source": [
    "history_df = pd.DataFrame(history.history)\n",
    "history_df.loc[:, ['loss', 'val_loss']].plot(title = 'Loss curve')"
   ]
  },
  {
   "cell_type": "code",
   "execution_count": 14,
   "id": "6da0913f",
   "metadata": {},
   "outputs": [
    {
     "data": {
      "text/plain": [
       "<AxesSubplot:title={'center':'Accuracy curve'}>"
      ]
     },
     "execution_count": 14,
     "metadata": {},
     "output_type": "execute_result"
    },
    {
     "data": {
      "image/png": "[encoded data removed]",
      "text/plain": [
       "<Figure size 432x288 with 1 Axes>"
      ]
     },
     "metadata": {
      "needs_background": "light"
     },
     "output_type": "display_data"
    }
   ],
   "source": [
    "history_df = pd.DataFrame(history.history)\n",
    "history_df.loc[:, ['accuracy', 'val_accuracy']].plot(title = 'Accuracy curve')"
   ]
  },
  {
   "cell_type": "code",
   "execution_count": 15,
   "id": "4d8ee569",
   "metadata": {},
   "outputs": [
    {
     "name": "stdout",
     "output_type": "stream",
     "text": [
      "45/45 [==============================] - 5s 104ms/step - loss: 0.5295 - accuracy: 0.7752\n",
      "[+] Accuracy: 77.52%\n"
     ]
    }
   ],
   "source": [
    "result = model.evaluate(X_test, y_test)\n",
    "\n",
    "loss = result[0]\n",
    "accuracy = result[1]\n",
    "print(f\"[+] Accuracy: {accuracy*100:.2f}%\")"
   ]
  },
  {
   "cell_type": "code",
   "execution_count": null,
   "id": "ff1ec32b",
   "metadata": {},
   "outputs": [],
   "source": []
  }
 ],
 "metadata": {
  "kernelspec": {
   "display_name": "Python 3 (ipykernel)",
   "language": "python",
   "name": "python3"
  },
  "language_info": {
   "codemirror_mode": {
    "name": "ipython",
    "version": 3
   },
   "file_extension": ".py",
   "mimetype": "text/x-python",
   "name": "python",
   "nbconvert_exporter": "python",
   "pygments_lexer": "ipython3",
   "version": "3.9.7"
  }
 },
 "nbformat": 4,
 "nbformat_minor": 5
}
