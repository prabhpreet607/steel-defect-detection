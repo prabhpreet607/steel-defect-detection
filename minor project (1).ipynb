{
 "cells": [
  {
   "cell_type": "code",
   "execution_count": 1,
   "id": "94ac3add",
   "metadata": {},
   "outputs": [],
   "source": [
    "import pandas as pd\n",
    "#used for mathematical operationd on array\n",
    "import numpy as np\n",
    " #used for data science/data analysis and machine learning tasks.\n",
    "import matplotlib.pyplot as plt\n",
    "#data visualization and graphical plotting library for Python\n",
    "import seaborn as sns\n",
    "import warnings\n",
    "import matplotlib.pyplot as plt\n",
    "import keras\n",
    "from sklearn.model_selection import train_test_split\n",
    "from tqdm import tqdm\n",
    "import cv2\n",
    "#used to solve computer vision problems\n",
    "from sklearn.preprocessing import OneHotEncoder,LabelEncoder\n",
    "#The sklearn library contains a lot of efficient\n",
    "#tools for machine learning and statistical modeling including classification, regression\n",
    "from keras.utils import to_categorical\n",
    "from keras.models import Sequential\n",
    "import tensorflow as tf\n",
    "#helps you implement best practices for data automation, model tracking,\n",
    "from keras.layers import Dense,Conv2D,Flatten,MaxPooling2D,Dropout\n",
    "#Keras is used for creating deep models which can be productized"
   ]
  },
  {
   "cell_type": "code",
   "execution_count": 2,
   "id": "8caa61ae",
   "metadata": {},
   "outputs": [],
   "source": [
    "data1 = pd.read_csv(\"G://several steel detection//test.csv\")\n",
    "data2 = pd.read_csv(\"G://several steel detection//train.csv\")\n"
   ]
  },
  {
   "cell_type": "code",
   "execution_count": 3,
   "id": "b65b630a",
   "metadata": {},
   "outputs": [
    {
     "data": {
      "text/html": [
       "<div>\n",
       "<style scoped>\n",
       "    .dataframe tbody tr th:only-of-type {\n",
       "        vertical-align: middle;\n",
       "    }\n",
       "\n",
       "    .dataframe tbody tr th {\n",
       "        vertical-align: top;\n",
       "    }\n",
       "\n",
       "    .dataframe thead th {\n",
       "        text-align: right;\n",
       "    }\n",
       "</style>\n",
       "<table border=\"1\" class=\"dataframe\">\n",
       "  <thead>\n",
       "    <tr style=\"text-align: right;\">\n",
       "      <th></th>\n",
       "      <th>ImageId</th>\n",
       "      <th>EncodedPixels</th>\n",
       "      <th>ClassId</th>\n",
       "    </tr>\n",
       "  </thead>\n",
       "  <tbody>\n",
       "    <tr>\n",
       "      <th>0</th>\n",
       "      <td>0000f269f.jpg</td>\n",
       "      <td>1 409600</td>\n",
       "      <td>0</td>\n",
       "    </tr>\n",
       "    <tr>\n",
       "      <th>1</th>\n",
       "      <td>000ccc2ac.jpg</td>\n",
       "      <td>1 409600</td>\n",
       "      <td>0</td>\n",
       "    </tr>\n",
       "    <tr>\n",
       "      <th>2</th>\n",
       "      <td>002451917.jpg</td>\n",
       "      <td>1 409600</td>\n",
       "      <td>0</td>\n",
       "    </tr>\n",
       "    <tr>\n",
       "      <th>3</th>\n",
       "      <td>003c5da97.jpg</td>\n",
       "      <td>1 409600</td>\n",
       "      <td>0</td>\n",
       "    </tr>\n",
       "    <tr>\n",
       "      <th>4</th>\n",
       "      <td>0042e163f.jpg</td>\n",
       "      <td>1 409600</td>\n",
       "      <td>0</td>\n",
       "    </tr>\n",
       "    <tr>\n",
       "      <th>...</th>\n",
       "      <td>...</td>\n",
       "      <td>...</td>\n",
       "      <td>...</td>\n",
       "    </tr>\n",
       "    <tr>\n",
       "      <th>5501</th>\n",
       "      <td>ffc9a6187.jpg</td>\n",
       "      <td>1 409600</td>\n",
       "      <td>0</td>\n",
       "    </tr>\n",
       "    <tr>\n",
       "      <th>5502</th>\n",
       "      <td>ffdb60677.jpg</td>\n",
       "      <td>1 409600</td>\n",
       "      <td>0</td>\n",
       "    </tr>\n",
       "    <tr>\n",
       "      <th>5503</th>\n",
       "      <td>ffe6e2da6.jpg</td>\n",
       "      <td>1 409600</td>\n",
       "      <td>0</td>\n",
       "    </tr>\n",
       "    <tr>\n",
       "      <th>5504</th>\n",
       "      <td>fff4fd9bb.jpg</td>\n",
       "      <td>1 409600</td>\n",
       "      <td>0</td>\n",
       "    </tr>\n",
       "    <tr>\n",
       "      <th>5505</th>\n",
       "      <td>fff598023.jpg</td>\n",
       "      <td>1 409600</td>\n",
       "      <td>0</td>\n",
       "    </tr>\n",
       "  </tbody>\n",
       "</table>\n",
       "<p>5506 rows × 3 columns</p>\n",
       "</div>"
      ],
      "text/plain": [
       "            ImageId EncodedPixels  ClassId\n",
       "0     0000f269f.jpg      1 409600        0\n",
       "1     000ccc2ac.jpg      1 409600        0\n",
       "2     002451917.jpg      1 409600        0\n",
       "3     003c5da97.jpg      1 409600        0\n",
       "4     0042e163f.jpg      1 409600        0\n",
       "...             ...           ...      ...\n",
       "5501  ffc9a6187.jpg      1 409600        0\n",
       "5502  ffdb60677.jpg      1 409600        0\n",
       "5503  ffe6e2da6.jpg      1 409600        0\n",
       "5504  fff4fd9bb.jpg      1 409600        0\n",
       "5505  fff598023.jpg      1 409600        0\n",
       "\n",
       "[5506 rows x 3 columns]"
      ]
     },
     "execution_count": 3,
     "metadata": {},
     "output_type": "execute_result"
    }
   ],
   "source": [
    "data1"
   ]
  },
  {
   "cell_type": "code",
   "execution_count": 4,
   "id": "7869135c",
   "metadata": {},
   "outputs": [],
   "source": [
    "data = pd.concat([data1,data2])"
   ]
  },
  {
   "cell_type": "code",
   "execution_count": 5,
   "id": "77c068e6",
   "metadata": {},
   "outputs": [
    {
     "data": {
      "text/plain": [
       "(12601, 3)"
      ]
     },
     "execution_count": 5,
     "metadata": {},
     "output_type": "execute_result"
    }
   ],
   "source": [
    "data.shape"
   ]
  },
  {
   "cell_type": "code",
   "execution_count": 6,
   "id": "cfaafbab",
   "metadata": {},
   "outputs": [
    {
     "data": {
      "text/plain": [
       "0    5506\n",
       "3    5150\n",
       "1     897\n",
       "4     801\n",
       "2     247\n",
       "Name: ClassId, dtype: int64"
      ]
     },
     "execution_count": 6,
     "metadata": {},
     "output_type": "execute_result"
    },
    {
     "data": {
      "image/png": "[encoded data removed]",
      "text/plain": [
       "<Figure size 432x288 with 1 Axes>"
      ]
     },
     "metadata": {
      "needs_background": "light"
     },
     "output_type": "display_data"
    }
   ],
   "source": [
    "data[\"ClassId\"].value_counts().plot(kind = \"bar\")\n",
    "data[\"ClassId\"].value_counts()\n"
   ]
  },
  {
   "cell_type": "code",
   "execution_count": 7,
   "id": "6fed4826",
   "metadata": {},
   "outputs": [
    {
     "name": "stderr",
     "output_type": "stream",
     "text": [
      "100%|██████████| 7095/7095 [01:59<00:00, 59.56it/s]\n"
     ]
    }
   ],
   "source": [
    "l1=[]\n",
    "l2=[]\n",
    "for ImageId,ClassId,EncodedPixels in tqdm(data2.values):\n",
    "    img = cv2.imread(\"G://several steel detection//train_images//{}\".format(ImageId),cv2.IMREAD_COLOR)\n",
    "    img = cv2.resize(img,(120,120))\n",
    "    l1.append(img)\n",
    "    l2.append(ClassId)"
   ]
  },
  {
   "cell_type": "code",
   "execution_count": 8,
   "id": "3c85fde7",
   "metadata": {},
   "outputs": [],
   "source": [
    "encoder = LabelEncoder()\n",
    "\n",
    "X= np.array(l1)\n",
    "X = X/255 #converting range from 0 to 1\n",
    "\n",
    "y = encoder.fit_transform(l2) # using label encoding\n",
    "y = to_categorical(y)"
   ]
  },
  {
   "cell_type": "code",
   "execution_count": 9,
   "id": "56252b6c",
   "metadata": {},
   "outputs": [
    {
     "name": "stdout",
     "output_type": "stream",
     "text": [
      "x_train shape: (5676, 120, 120, 3)\n",
      "x_test shape: (1419, 120, 120, 3)\n",
      "y_train shape: (5676, 4)\n",
      "y_test shape: (1419, 4)\n"
     ]
    }
   ],
   "source": [
    "X_train,X_test,y_train,y_test=train_test_split(X,y,test_size=0.2,stratify=y,shuffle=True)\n",
    "print(\"x_train shape:\",X_train.shape)\n",
    "print(\"x_test shape:\",X_test.shape)\n",
    "print(\"y_train shape:\",y_train.shape)\n",
    "print(\"y_test shape:\",y_test.shape)"
   ]
  },
  {
   "cell_type": "code",
   "execution_count": 10,
   "id": "c330ac9c",
   "metadata": {},
   "outputs": [],
   "source": [
    "model=Sequential()\n",
    "model.add(Conv2D(32,(3,3),input_shape=(120,120,3),activation=\"relu\"))\n",
    "model.add(MaxPooling2D(pool_size=(3,3)))\n",
    "\n",
    "model.add(Conv2D(64,(3,3),activation=\"relu\"))\n",
    "model.add(MaxPooling2D(pool_size=(3,3)))\n",
    "\n",
    "model.add(Conv2D(64,(3,3),activation=\"relu\"))\n",
    "model.add(MaxPooling2D(pool_size=(4,4)))\n",
    "\n",
    "model.add(Flatten())\n",
    "model.add(Dense(128,activation=\"relu\"))\n",
    "model.add(Dropout(0.3))\n",
    "model.add(Dense(128,activation=\"relu\"))\n",
    "model.add(Dropout(0.3))\n",
    "model.add(Dense(256,activation=\"relu\"))\n",
    "model.add(Dense(4,activation=\"softmax\"))"
   ]
  },
  {
   "cell_type": "code",
   "execution_count": 11,
   "id": "8a9bbdd1",
   "metadata": {},
   "outputs": [],
   "source": [
    "early_stopping = tf.keras.callbacks.EarlyStopping(patience=5,min_delta=0.001,restore_best_weights=True)"
   ]
  },
  {
   "cell_type": "code",
   "execution_count": 12,
   "id": "239b007a",
   "metadata": {},
   "outputs": [],
   "source": [
    "\n",
    "\n",
    "\n",
    "model.compile(loss=keras.losses.categorical_crossentropy,\n",
    "             optimizer=keras.optimizers.Adam(),\n",
    "             metrics=[\"accuracy\"])"
   ]
  },
  {
   "cell_type": "code",
   "execution_count": 13,
   "id": "3678167f",
   "metadata": {},
   "outputs": [
    {
     "name": "stdout",
     "output_type": "stream",
     "text": [
      "Epoch 1/15\n",
      "57/57 [==============================] - 70s 953ms/step - loss: 0.8784 - accuracy: 0.7237 - val_loss: 0.8064 - val_accuracy: 0.7259\n",
      "Epoch 2/15\n",
      "57/57 [==============================] - 55s 959ms/step - loss: 0.7864 - accuracy: 0.7287 - val_loss: 0.7724 - val_accuracy: 0.7442\n",
      "Epoch 3/15\n",
      "57/57 [==============================] - 56s 978ms/step - loss: 0.7495 - accuracy: 0.7452 - val_loss: 0.7216 - val_accuracy: 0.7385\n",
      "Epoch 4/15\n",
      "57/57 [==============================] - 56s 985ms/step - loss: 0.7165 - accuracy: 0.7451 - val_loss: 0.6777 - val_accuracy: 0.7512\n",
      "Epoch 5/15\n",
      "57/57 [==============================] - 55s 966ms/step - loss: 0.6916 - accuracy: 0.7500 - val_loss: 0.7183 - val_accuracy: 0.7449\n",
      "Epoch 6/15\n",
      "57/57 [==============================] - 54s 949ms/step - loss: 0.6732 - accuracy: 0.7498 - val_loss: 0.6952 - val_accuracy: 0.7526\n",
      "Epoch 7/15\n",
      "57/57 [==============================] - 54s 943ms/step - loss: 0.6443 - accuracy: 0.7532 - val_loss: 0.6272 - val_accuracy: 0.7526\n",
      "Epoch 8/15\n",
      "57/57 [==============================] - 56s 985ms/step - loss: 0.6157 - accuracy: 0.7555 - val_loss: 0.6146 - val_accuracy: 0.7533\n",
      "Epoch 9/15\n",
      "57/57 [==============================] - 56s 983ms/step - loss: 0.5827 - accuracy: 0.7593 - val_loss: 0.6230 - val_accuracy: 0.7555\n",
      "Epoch 10/15\n",
      "57/57 [==============================] - 57s 993ms/step - loss: 0.5640 - accuracy: 0.7613 - val_loss: 0.5536 - val_accuracy: 0.7674\n",
      "Epoch 11/15\n",
      "57/57 [==============================] - 56s 976ms/step - loss: 0.5393 - accuracy: 0.7708 - val_loss: 0.5614 - val_accuracy: 0.7576\n",
      "Epoch 12/15\n",
      "57/57 [==============================] - 54s 956ms/step - loss: 0.5161 - accuracy: 0.7748 - val_loss: 0.5298 - val_accuracy: 0.7667\n",
      "Epoch 13/15\n",
      "57/57 [==============================] - 54s 946ms/step - loss: 0.4961 - accuracy: 0.7847 - val_loss: 0.5302 - val_accuracy: 0.7717\n",
      "Epoch 14/15\n",
      "57/57 [==============================] - 54s 951ms/step - loss: 0.4844 - accuracy: 0.7807 - val_loss: 0.5000 - val_accuracy: 0.7907\n",
      "Epoch 15/15\n",
      "57/57 [==============================] - 54s 954ms/step - loss: 0.4708 - accuracy: 0.7955 - val_loss: 0.5134 - val_accuracy: 0.7801\n"
     ]
    }
   ],
   "source": [
    "history = model.fit(X_train,y_train,epochs=15,validation_data=(X_test,y_test),batch_size=100,\n",
    "                    verbose=1, callbacks=[early_stopping])"
   ]
  },
  {
   "cell_type": "code",
   "execution_count": 14,
   "id": "f9fc590a",
   "metadata": {},
   "outputs": [
    {
     "data": {
      "text/plain": [
       "<AxesSubplot:title={'center':'Loss curve'}>"
      ]
     },
     "execution_count": 14,
     "metadata": {},
     "output_type": "execute_result"
    },
    {
     "data": {
      "image/png": "[encoded data removed]",
      "text/plain": [
       "<Figure size 432x288 with 1 Axes>"
      ]
     },
     "metadata": {
      "needs_background": "light"
     },
     "output_type": "display_data"
    }
   ],
   "source": [
    "history_df = pd.DataFrame(history.history)\n",
    "history_df.loc[:, ['loss', 'val_loss']].plot(title = 'Loss curve')"
   ]
  },
  {
   "cell_type": "code",
   "execution_count": 15,
   "id": "6da0913f",
   "metadata": {},
   "outputs": [
    {
     "data": {
      "text/plain": [
       "<AxesSubplot:title={'center':'Accuracy curve'}>"
      ]
     },
     "execution_count": 15,
     "metadata": {},
     "output_type": "execute_result"
    },
    {
     "data": {
      "image/png": "[encoded data removed]",
      "text/plain": [
       "<Figure size 432x288 with 1 Axes>"
      ]
     },
     "metadata": {
      "needs_background": "light"
     },
     "output_type": "display_data"
    }
   ],
   "source": [
    "history_df = pd.DataFrame(history.history)\n",
    "history_df.loc[:, ['accuracy', 'val_accuracy']].plot(title = 'Accuracy curve')"
   ]
  },
  {
   "cell_type": "code",
   "execution_count": 16,
   "id": "4d8ee569",
   "metadata": {},
   "outputs": [
    {
     "name": "stdout",
     "output_type": "stream",
     "text": [
      "45/45 [==============================] - 4s 92ms/step - loss: 0.5134 - accuracy: 0.7801\n",
      "[+] Accuracy: 78.01%\n"
     ]
    }
   ],
   "source": [
    "result = model.evaluate(X_test, y_test)\n",
    "\n",
    "loss = result[0]\n",
    "accuracy = result[1]\n",
    "print(f\"[+] Accuracy: {accuracy*100:.2f}%\")"
   ]
  },
  {
   "cell_type": "code",
   "execution_count": 17,
   "id": "ff1ec32b",
   "metadata": {},
   "outputs": [
    {
     "name": "stdout",
     "output_type": "stream",
     "text": [
      "<keras.engine.sequential.Sequential object at 0x00000226488AB430>\n"
     ]
    }
   ],
   "source": [
    "print(model)"
   ]
  },
  {
   "cell_type": "code",
   "execution_count": 19,
   "id": "9fcd16e2",
   "metadata": {},
   "outputs": [
    {
     "name": "stdout",
     "output_type": "stream",
     "text": [
      "Model: \"sequential\"\n",
      "_________________________________________________________________\n",
      " Layer (type)                Output Shape              Param #   \n",
      "=================================================================\n",
      " conv2d (Conv2D)             (None, 118, 118, 32)      896       \n",
      "                                                                 \n",
      " max_pooling2d (MaxPooling2D  (None, 39, 39, 32)       0         \n",
      " )                                                               \n",
      "                                                                 \n",
      " conv2d_1 (Conv2D)           (None, 37, 37, 64)        18496     \n",
      "                                                                 \n",
      " max_pooling2d_1 (MaxPooling  (None, 12, 12, 64)       0         \n",
      " 2D)                                                             \n",
      "                                                                 \n",
      " conv2d_2 (Conv2D)           (None, 10, 10, 64)        36928     \n",
      "                                                                 \n",
      " max_pooling2d_2 (MaxPooling  (None, 2, 2, 64)         0         \n",
      " 2D)                                                             \n",
      "                                                                 \n",
      " flatten (Flatten)           (None, 256)               0         \n",
      "                                                                 \n",
      " dense (Dense)               (None, 128)               32896     \n",
      "                                                                 \n",
      " dropout (Dropout)           (None, 128)               0         \n",
      "                                                                 \n",
      " dense_1 (Dense)             (None, 128)               16512     \n",
      "                                                                 \n",
      " dropout_1 (Dropout)         (None, 128)               0         \n",
      "                                                                 \n",
      " dense_2 (Dense)             (None, 256)               33024     \n",
      "                                                                 \n",
      " dense_3 (Dense)             (None, 4)                 1028      \n",
      "                                                                 \n",
      "=================================================================\n",
      "Total params: 139,780\n",
      "Trainable params: 139,780\n",
      "Non-trainable params: 0\n",
      "_________________________________________________________________\n"
     ]
    }
   ],
   "source": [
    "model.summary()"
   ]
  },
  {
   "cell_type": "code",
   "execution_count": null,
   "id": "5a2d4640",
   "metadata": {},
   "outputs": [],
   "source": []
  }
 ],
 "metadata": {
  "kernelspec": {
   "display_name": "Python 3 (ipykernel)",
   "language": "python",
   "name": "python3"
  },
  "language_info": {
   "codemirror_mode": {
    "name": "ipython",
    "version": 3
   },
   "file_extension": ".py",
   "mimetype": "text/x-python",
   "name": "python",
   "nbconvert_exporter": "python",
   "pygments_lexer": "ipython3",
   "version": "3.9.7"
  }
 },
 "nbformat": 4,
 "nbformat_minor": 5
}
